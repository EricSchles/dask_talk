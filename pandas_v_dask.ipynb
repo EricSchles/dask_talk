{
 "cells": [
  {
   "cell_type": "code",
   "execution_count": 1,
   "metadata": {
    "collapsed": true
   },
   "outputs": [],
   "source": [
    "#Documentation: http://dask.pydata.org/en/latest/\n",
    "#Installation: pip install dask\n",
    "#Where to find data: https://www.quora.com/Where-can-I-find-large-datasets-open-to-the-public\n",
    "# A real introduction to Dask: https://www.youtube.com/watch?v=5Md_sSsN51k\n",
    "import time\n",
    "import pandas as pd\n",
    "import dask.dataframe as dd"
   ]
  },
  {
   "cell_type": "code",
   "execution_count": 2,
   "metadata": {
    "collapsed": false
   },
   "outputs": [
    {
     "name": "stdout",
     "output_type": "stream",
     "text": [
      "took 0.34474897384643555 seconds\n"
     ]
    }
   ],
   "source": [
    "start = time.time()\n",
    "df = pd.read_csv(\"data/accident.csv\")\n",
    "\n",
    "result = df.groupby(['STATE']).agg({\"FATALS\":sum})\n",
    "print(\"took\",time.time() - start,\"seconds\")\n",
    "#result"
   ]
  },
  {
   "cell_type": "code",
   "execution_count": 3,
   "metadata": {
    "collapsed": false
   },
   "outputs": [
    {
     "name": "stdout",
     "output_type": "stream",
     "text": [
      "took 0.36710095405578613 seconds\n"
     ]
    }
   ],
   "source": [
    "start = time.time()\n",
    "dask_f = dd.read_csv(\"data/accident.csv\")\n",
    "result = dask_f.groupby([\"STATE\"]).agg({\"FATALS\":sum}).compute()\n",
    "print(\"took\",time.time() - start,\"seconds\")\n",
    "#result\n"
   ]
  },
  {
   "cell_type": "code",
   "execution_count": 4,
   "metadata": {
    "collapsed": false
   },
   "outputs": [
    {
     "name": "stdout",
     "output_type": "stream",
     "text": [
      "took 0.0431818962097168 seconds\n"
     ]
    }
   ],
   "source": [
    "start = time.time()\n",
    "weather = {0: 'No Additional Atmospheric Conditions', 1: 'Clear', \n",
    "           2: 'Rain', 3: 'Sleet, Hail', \n",
    "           4: 'Snow', 5: 'Fog, Smog, Smoke', 6: 'Severe Crosswinds', \n",
    "           7: 'Blowing Sand, Soil, Dirt', \n",
    "           8: 'Other', 10: 'Cloudy', 11: 'Blowing Snow', \n",
    "           12: 'Freezing Rain or Drizzle', \n",
    "           98: 'Not Reported', 99: 'Unknown'}\n",
    "\n",
    "df['weather']=df['WEATHER'].apply(lambda x: weather[x])\n",
    "df['weather1']=df['WEATHER1'].apply(lambda x: weather[x])\n",
    "df['weather2']=df['WEATHER2'].apply(lambda x: weather[x])\n",
    "df[\"weather\"].value_counts()\n",
    "print(\"took\",time.time() - start,\"seconds\")"
   ]
  },
  {
   "cell_type": "code",
   "execution_count": 5,
   "metadata": {
    "collapsed": false
   },
   "outputs": [
    {
     "name": "stdout",
     "output_type": "stream",
     "text": [
      "took 0.4163849353790283 seconds\n"
     ]
    }
   ],
   "source": [
    "import warnings\n",
    "warnings.filterwarnings('ignore')\n",
    "start = time.time()\n",
    "weather = {0: 'No Additional Atmospheric Conditions', 1: 'Clear', \n",
    "           2: 'Rain', 3: 'Sleet, Hail', \n",
    "           4: 'Snow', 5: 'Fog, Smog, Smoke', 6: 'Severe Crosswinds', \n",
    "           7: 'Blowing Sand, Soil, Dirt', \n",
    "           8: 'Other', 10: 'Cloudy', 11: 'Blowing Snow', \n",
    "           12: 'Freezing Rain or Drizzle', \n",
    "           98: 'Not Reported', 99: 'Unknown'}\n",
    "\n",
    "dask_f['weather']=dask_f['WEATHER'].apply(lambda x: weather[x])\n",
    "dask_f['weather1']=dask_f['WEATHER1'].apply(lambda x: weather[x])\n",
    "dask_f['weather2']=dask_f['WEATHER2'].apply(lambda x: weather[x])\n",
    "dask_f[\"weather\"].value_counts().compute()\n",
    "print(\"took\",time.time() - start,\"seconds\")"
   ]
  },
  {
   "cell_type": "code",
   "execution_count": 7,
   "metadata": {
    "collapsed": true
   },
   "outputs": [],
   "source": [
    "#https://distributed.readthedocs.io/en/latest/quickstart.html\n",
    "#https://distributed.readthedocs.io/en/latest/client.html#dask\n",
    "from distributed import Client\n",
    "client = Client()\n"
   ]
  },
  {
   "cell_type": "code",
   "execution_count": 6,
   "metadata": {
    "collapsed": false
   },
   "outputs": [
    {
     "name": "stderr",
     "output_type": "stream",
     "text": [
      "/Users/ericschles/anaconda/lib/python3.5/site-packages/bokeh/core/validation/check.py - WARNING - W-1001 (NO_DATA_RENDERERS): Plot has no data renderers: Figure(id='8a532df7-885d-4ae1-864f-391318d16ddf', ...)\n",
      "/Users/ericschles/anaconda/lib/python3.5/site-packages/bokeh/core/validation/check.py - WARNING - W-1001 (NO_DATA_RENDERERS): Plot has no data renderers: Figure(id='8a532df7-885d-4ae1-864f-391318d16ddf', ...)\n"
     ]
    }
   ],
   "source": [
    "import dask.array as da\n",
    "from dask.dot import dot_graph\n",
    "from dask.diagnostics import Profiler\n",
    "a = da.random.random(size=(10000, 1000), chunks=(1000, 1000))\n",
    "q, r = da.linalg.qr(a)\n",
    "a2 = q.dot(r)\n",
    "\n",
    "with Profiler() as prof:\n",
    "    out = a2.compute()\n",
    "    prof.visualize()"
   ]
  },
  {
   "cell_type": "code",
   "execution_count": null,
   "metadata": {
    "collapsed": false
   },
   "outputs": [],
   "source": []
  },
  {
   "cell_type": "code",
   "execution_count": null,
   "metadata": {
    "collapsed": true
   },
   "outputs": [],
   "source": []
  }
 ],
 "metadata": {
  "anaconda-cloud": {},
  "kernelspec": {
   "display_name": "Python [default]",
   "language": "python",
   "name": "python3"
  },
  "language_info": {
   "codemirror_mode": {
    "name": "ipython",
    "version": 3
   },
   "file_extension": ".py",
   "mimetype": "text/x-python",
   "name": "python",
   "nbconvert_exporter": "python",
   "pygments_lexer": "ipython3",
   "version": "3.5.2"
  }
 },
 "nbformat": 4,
 "nbformat_minor": 1
}
